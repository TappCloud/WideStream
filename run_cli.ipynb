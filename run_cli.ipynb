import subprocess
from IPython.display import display, HTML
import ipywidgets as widgets

def run_command(command):
    try:
        result = subprocess.run(command, shell=True, check=True, stdout=subprocess.PIPE, stderr=subprocess.PIPE)
        output = result.stdout.decode('utf-8')
        error = result.stderr.decode('utf-8')
        return f"<pre>{output}</pre>", f"<pre>{error}</pre>"
    except subprocess.CalledProcessError as e:
        return "", f"<pre>{e.stderr.decode('utf-8')}</pre>"

def on_button_click(b):
    command = command_input.value
    output, error = run_command(command)
    output_area.value = output
    error_area.value = error

command_input = widgets.Text(
    value='mov-cli --version',
    placeholder='Enter CLI command',
    description='Command:',
    disabled=False
)

run_button = widgets.Button(
    description='Run Command',
    disabled=False,
    button_style='',
    tooltip='Click to run command',
    icon='check'
)

output_area = widgets.HTML(
    value='',
    placeholder='Output will appear here',
    description=''
)

error_area = widgets.HTML(
    value='',
    placeholder='Errors will appear here',
    description=''
)

run_button.on_click(on_button_click)

display(command_input, run_button, output_area, error_area)
